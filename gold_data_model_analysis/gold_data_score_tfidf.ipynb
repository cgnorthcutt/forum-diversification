{
 "cells": [
  {
   "cell_type": "code",
   "execution_count": 1,
   "metadata": {
    "collapsed": true
   },
   "outputs": [],
   "source": [
    "from __future__ import absolute_import\n",
    "from __future__ import division\n",
    "from __future__ import unicode_literals\n",
    "from __future__ import print_function"
   ]
  },
  {
   "cell_type": "code",
   "execution_count": 2,
   "metadata": {
    "collapsed": false
   },
   "outputs": [],
   "source": [
    "import numpy as np\n",
    "import pandas as pd\n",
    "from sklearn.feature_extraction.text import TfidfVectorizer\n",
    "import pickle\n",
    "from sklearn.preprocessing import normalize\n",
    "from sklearn.preprocessing import MinMaxScaler\n",
    "from scipy.stats import rankdata\n",
    "\n",
    "pd.set_option('max_colwidth',5000)"
   ]
  },
  {
   "cell_type": "code",
   "execution_count": 3,
   "metadata": {
    "collapsed": false
   },
   "outputs": [],
   "source": [
    "# Load word2vec model for this specific course\n",
    "w2v_matrix = pickle.load( open( \"../data/w2v_matrix_for_HarvardX__HDS_3221_2X__1T2016.p\", \"rb\" ) )\n",
    "vocab = np.array(pickle.load( open( \"../data/vocab_for_HarvardX__HDS_3221_2X__1T2016.p\", \"rb\" ) ) )"
   ]
  },
  {
   "cell_type": "code",
   "execution_count": 4,
   "metadata": {
    "collapsed": false
   },
   "outputs": [],
   "source": [
    "# Verify word2vec model works well (the following example should have cosine similarity near 1)\n",
    "\n",
    "# def cosinesimilarity(u, v):\n",
    "#   # u - embedding (vector)\n",
    "#   # v - embedding (vector)\n",
    "#   return np.dot(u,v) / (np.sqrt(np.dot(u, u)) * np.sqrt(np.dot(v,v)))\n",
    "# np.dot(w2v_matrix[np.where(vocab == \"queen\")[0][0]], w2v_matrix[np.where(vocab == \"king\")[0][0]] - w2v_matrix[np.where(vocab == \"man\")[0][0]] + w2v_matrix[np.where(vocab == \"woman\")[0][0]] )"
   ]
  },
  {
   "cell_type": "code",
   "execution_count": 5,
   "metadata": {
    "collapsed": true
   },
   "outputs": [],
   "source": [
    "test_comments = [\n",
    "  \"Jesus is great. I love Jesus and the holy book. I think God is amazing. I agree with religion\",\n",
    "  \"Jesus is great. I love Jesus and the holy book. I think God is amazing.\",\n",
    "  \"Jesus is the best. I love Jesus and the holy book. I think God is amazing. I agree with religion\",\n",
    "  \"Jesus is awesome. I love Jesus and the holy book. I think God is amazing. I agree with religion\",\n",
    "  \"Christ is great. I love Christ and the holy book. I think God is amazing. I agree with religion\",\n",
    "  \"Christ is great. I love Christ and the holy book. I agree with religion\",\n",
    "  \"Donald Trump is a president with tons of electrical equipment and lightbulbs and random things.\",\n",
    "]"
   ]
  },
  {
   "cell_type": "code",
   "execution_count": 56,
   "metadata": {
    "collapsed": false
   },
   "outputs": [
    {
     "data": {
      "text/plain": [
       "3674"
      ]
     },
     "execution_count": 56,
     "metadata": {},
     "output_type": "execute_result"
    }
   ],
   "source": [
    "TfidfVectorizer(stop_words='english', )"
   ]
  },
  {
   "cell_type": "code",
   "execution_count": 57,
   "metadata": {
    "collapsed": false
   },
   "outputs": [],
   "source": [
    "def tfidf(gold_data, gold_matrix):\n",
    "  # Get tfidf counts for each comment as a matrix C with shape (# comments, size of vocab)\n",
    "  vec = TfidfVectorizer(stop_words='english')\n",
    "  C = vec.fit_transform(gold_data.body.values)\n",
    "  C = normalize(C, norm='l2')\n",
    "  # We compute pairwise cosine similarity with dot product since A is normalized.\n",
    "  pairwise_cosine_similarity = np.dot(C, C.transpose())\n",
    "  return MinMaxScaler().fit_transform(pairwise_cosine_similarity.toarray())"
   ]
  },
  {
   "cell_type": "code",
   "execution_count": 58,
   "metadata": {
    "collapsed": false
   },
   "outputs": [],
   "source": [
    "# Load gold train data\n",
    "gold_matrix_train = pd.read_csv('gold_matrix_train_HarvardX__HDS_3221_2X__1T2016.csv.gz', compression='gzip')\n",
    "df_gold_train = pd.read_csv('gold_data_train_HarvardX__HDS_3221_2X__1T2016.csv.gz', compression='gzip')\n",
    "pairwise_cosine_similarity_train = tfidf(df_gold_train, gold_matrix_train)"
   ]
  },
  {
   "cell_type": "code",
   "execution_count": 59,
   "metadata": {
    "collapsed": false
   },
   "outputs": [],
   "source": [
    "# Load gold data\n",
    "gold_matrix_test = pd.read_csv('gold_matrix_test_HarvardX__HDS_3221_2X__1T2016.csv.gz', compression='gzip')\n",
    "df_gold_test = pd.read_csv('gold_data_test_HarvardX__HDS_3221_2X__1T2016.csv.gz', compression='gzip')\n",
    "pairwise_cosine_similarity_test = tfidf(df_gold_test, gold_matrix_test)"
   ]
  },
  {
   "cell_type": "code",
   "execution_count": 43,
   "metadata": {
    "collapsed": false
   },
   "outputs": [],
   "source": [
    "import make_pairwise_gold_metric_scores\n",
    "reload(make_pairwise_gold_metric_scores)\n",
    "from make_pairwise_gold_metric_scores import compute_metrics"
   ]
  },
  {
   "cell_type": "code",
   "execution_count": 60,
   "metadata": {
    "collapsed": false
   },
   "outputs": [
    {
     "name": "stdout",
     "output_type": "stream",
     "text": [
      "Avg Difference score: 0.0577257222903 - 0.0156095192645 = 0.0421162030258\n",
      "Median Difference score: 0.0351740946852 - 0.00838336037608 = 0.0267907343092\n",
      "Median Quantile (Rank) Difference score: 0.789332171576 - 0.451322527724 = 0.338009643852\n",
      "Pairwise Binary Logistic Regression Accuracy score: 0.841026018457\n",
      "\n",
      "The next test uses parameter optimization over a random forest\n",
      "classifier's parameters and may take 30s to 2 min to run.\n",
      "\n",
      "Pairwise Binary Random Forest Accuracy score: 0.842051657047\n"
     ]
    },
    {
     "data": {
      "text/html": [
       "<div>\n",
       "<table border=\"1\" class=\"dataframe\">\n",
       "  <thead>\n",
       "    <tr style=\"text-align: right;\">\n",
       "      <th></th>\n",
       "      <th>Score</th>\n",
       "    </tr>\n",
       "  </thead>\n",
       "  <tbody>\n",
       "    <tr>\n",
       "      <th>avg_diff</th>\n",
       "      <td>0.042116</td>\n",
       "    </tr>\n",
       "    <tr>\n",
       "      <th>logreg_acc_pairwise_binary</th>\n",
       "      <td>0.841026</td>\n",
       "    </tr>\n",
       "    <tr>\n",
       "      <th>median_diff</th>\n",
       "      <td>0.026791</td>\n",
       "    </tr>\n",
       "    <tr>\n",
       "      <th>median_quantile_diff</th>\n",
       "      <td>0.338010</td>\n",
       "    </tr>\n",
       "    <tr>\n",
       "      <th>random_forest_acc_pairwise_binary</th>\n",
       "      <td>0.842052</td>\n",
       "    </tr>\n",
       "  </tbody>\n",
       "</table>\n",
       "</div>"
      ],
      "text/plain": [
       "                                      Score\n",
       "avg_diff                           0.042116\n",
       "logreg_acc_pairwise_binary         0.841026\n",
       "median_diff                        0.026791\n",
       "median_quantile_diff               0.338010\n",
       "random_forest_acc_pairwise_binary  0.842052"
      ]
     },
     "execution_count": 60,
     "metadata": {},
     "output_type": "execute_result"
    }
   ],
   "source": [
    "metrics = compute_metrics(pairwise_cosine_similarity_train, pairwise_cosine_similarity_test, gold_matrix_train, df_gold_train, gold_matrix_test, df_gold_test)\n",
    "pretty_metrics = pd.DataFrame(pd.Series(metrics), columns = [\"Score\"])\n",
    "pretty_metrics"
   ]
  },
  {
   "cell_type": "code",
   "execution_count": 45,
   "metadata": {
    "collapsed": false
   },
   "outputs": [
    {
     "name": "stdout",
     "output_type": "stream",
     "text": [
      "Avg Difference score: 0.129660754856 - 0.0963357803765 = 0.0333249744797\n",
      "Median Difference score: 0.114949235998 - 0.0911129269315 = 0.0238363090664\n",
      "Median Quantile (Rank) Difference score: 0.628188237001 - 0.471319896878 = 0.156868340122\n",
      "Pairwise Binary Logistic Regression Accuracy score: 0.793110593468\n",
      "\n",
      "The next test uses parameter optimization over a random forest\n",
      "classifier's parameters and may take 30s to 2 min to run.\n",
      "\n",
      "Pairwise Binary Random Forest Accuracy score: 0.793051883803\n"
     ]
    },
    {
     "data": {
      "text/html": [
       "<div>\n",
       "<table border=\"1\" class=\"dataframe\">\n",
       "  <thead>\n",
       "    <tr style=\"text-align: right;\">\n",
       "      <th></th>\n",
       "      <th>Score</th>\n",
       "    </tr>\n",
       "  </thead>\n",
       "  <tbody>\n",
       "    <tr>\n",
       "      <th>avg_diff</th>\n",
       "      <td>0.033325</td>\n",
       "    </tr>\n",
       "    <tr>\n",
       "      <th>logreg_acc_pairwise_binary</th>\n",
       "      <td>0.793111</td>\n",
       "    </tr>\n",
       "    <tr>\n",
       "      <th>median_diff</th>\n",
       "      <td>0.023836</td>\n",
       "    </tr>\n",
       "    <tr>\n",
       "      <th>median_quantile_diff</th>\n",
       "      <td>0.156868</td>\n",
       "    </tr>\n",
       "    <tr>\n",
       "      <th>random_forest_acc_pairwise_binary</th>\n",
       "      <td>0.793052</td>\n",
       "    </tr>\n",
       "  </tbody>\n",
       "</table>\n",
       "</div>"
      ],
      "text/plain": [
       "                                      Score\n",
       "avg_diff                           0.033325\n",
       "logreg_acc_pairwise_binary         0.793111\n",
       "median_diff                        0.023836\n",
       "median_quantile_diff               0.156868\n",
       "random_forest_acc_pairwise_binary  0.793052"
      ]
     },
     "execution_count": 45,
     "metadata": {},
     "output_type": "execute_result"
    }
   ],
   "source": [
    "# Switching train and test\n",
    "\n",
    "metrics = compute_metrics(pairwise_cosine_similarity_test, pairwise_cosine_similarity_train, gold_matrix_test, df_gold_test, gold_matrix_train, df_gold_train)\n",
    "pretty_metrics = pd.DataFrame(pd.Series(metrics), columns = [\"Score\"])\n",
    "pretty_metrics"
   ]
  },
  {
   "cell_type": "code",
   "execution_count": null,
   "metadata": {
    "collapsed": true
   },
   "outputs": [],
   "source": []
  }
 ],
 "metadata": {
  "kernelspec": {
   "display_name": "Python 2",
   "language": "python",
   "name": "python2"
  },
  "language_info": {
   "codemirror_mode": {
    "name": "ipython",
    "version": 2
   },
   "file_extension": ".py",
   "mimetype": "text/x-python",
   "name": "python",
   "nbconvert_exporter": "python",
   "pygments_lexer": "ipython2",
   "version": "2.7.12"
  }
 },
 "nbformat": 4,
 "nbformat_minor": 0
}
