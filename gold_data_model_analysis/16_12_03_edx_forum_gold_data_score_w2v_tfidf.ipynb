{
 "cells": [
  {
   "cell_type": "code",
   "execution_count": 1,
   "metadata": {
    "collapsed": true
   },
   "outputs": [],
   "source": [
    "from __future__ import absolute_import\n",
    "from __future__ import division\n",
    "from __future__ import unicode_literals\n",
    "from __future__ import print_function"
   ]
  },
  {
   "cell_type": "code",
   "execution_count": 2,
   "metadata": {
    "collapsed": false
   },
   "outputs": [],
   "source": [
    "import numpy as np\n",
    "import pandas as pd\n",
    "from sklearn.feature_extraction.text import TfidfVectorizer\n",
    "import pickle\n",
    "from sklearn.preprocessing import normalize\n",
    "\n",
    "pd.set_option('max_colwidth',5000)"
   ]
  },
  {
   "cell_type": "code",
   "execution_count": 3,
   "metadata": {
    "collapsed": true
   },
   "outputs": [],
   "source": [
    "# Load gold data\n",
    "gold_matrix = pd.read_csv('gold_matrix_for_HarvardX__HDS_3221_2X__1T2016.csv.gz', compression='gzip')\n",
    "df_gold = pd.read_csv('gold_data_HarvardX__HDS_3221_2X__1T2016.csv.gz', compression='gzip')\n",
    "\n",
    "# Load word2vec model for this specific course\n",
    "w2v_matrix = pickle.load( open( \"w2v_matrix_for_HarvardX__HDS_3221_2X__1T2016.p\", \"rb\" ) )\n",
    "vocab = np.array(pickle.load( open( \"vocab_for_HarvardX__HDS_3221_2X__1T2016.p\", \"rb\" ) ) )"
   ]
  },
  {
   "cell_type": "code",
   "execution_count": 117,
   "metadata": {
    "collapsed": false
   },
   "outputs": [],
   "source": [
    "# Verify word2vec model works well (the following example should have cosine similarity near 1)\n",
    "\n",
    "# def cosinesimilarity(u, v):\n",
    "#   # u - embedding (vector)\n",
    "#   # v - embedding (vector)\n",
    "#   return np.dot(u,v) / (np.sqrt(np.dot(u, u)) * np.sqrt(np.dot(v,v)))\n",
    "# np.dot(w2v_matrix[np.where(vocab == \"queen\")[0][0]], w2v_matrix[np.where(vocab == \"king\")[0][0]] - w2v_matrix[np.where(vocab == \"man\")[0][0]] + w2v_matrix[np.where(vocab == \"woman\")[0][0]] )"
   ]
  },
  {
   "cell_type": "code",
   "execution_count": 4,
   "metadata": {
    "collapsed": true
   },
   "outputs": [],
   "source": [
    "test_comments = [\n",
    "  \"Jesus is great. I love Jesus and the holy book. I think God is amazing. I agree with religion\",\n",
    "  \"Jesus is great. I love Jesus and the holy book. I think God is amazing.\",\n",
    "  \"Jesus is the best. I love Jesus and the holy book. I think God is amazing. I agree with religion\",\n",
    "  \"Jesus is awesome. I love Jesus and the holy book. I think God is amazing. I agree with religion\",\n",
    "  \"Christ is great. I love Christ and the holy book. I think God is amazing. I agree with religion\",\n",
    "  \"Christ is great. I love Christ and the holy book. I agree with religion\",\n",
    "  \"Donald Trump is a president with tons of electrical equipment and lightbulbs and random things.\",\n",
    "]"
   ]
  },
  {
   "cell_type": "code",
   "execution_count": 7,
   "metadata": {
    "collapsed": false
   },
   "outputs": [
    {
     "name": "stdout",
     "output_type": "stream",
     "text": [
      "0.777429523395 - 0.756804313704 = 0.0206252096911\n"
     ]
    }
   ],
   "source": [
    "# Get tfidf counts for each comment as a matrix C with shape (# comments, size of w2v vocab)\n",
    "vec = TfidfVectorizer(vocabulary=vocab)\n",
    "C = vec.fit_transform(df_gold.body.values)\n",
    "\n",
    "# Compute tfidf bag of words for each comment as matrix A with shape (#comments, embedding dimension)\n",
    "A = C.dot(w2v_matrix)\n",
    "A = normalize(A, norm='l2')\n",
    "\n",
    "# Verify that each row of A is normalized (unit vector l2-norm)\n",
    "assert(abs(sum(np.sum(np.abs(A)**2,axis=-1)**(1./2)) / len(A) - 1.0) < 0.0001) # Should be close to 1.0\n",
    "\n",
    "# We compute pairwise cosine similarity with dot product since A is normalized.\n",
    "pairwise_cosine_similarity = np.dot(A, A.transpose())\n",
    "\n",
    "# Compute avg consine similarity for same cluster comments and different cluster topics and subtract.\n",
    "same_cluster_avg_score = np.multiply(pairwise_cosine_similarity, gold_matrix).values.sum() / gold_matrix.values.sum()\n",
    "diff_cluster_avg_score = np.multiply(pairwise_cosine_similarity, 1-gold_matrix).values.sum() / (1-gold_matrix).values.sum()\n",
    "print(same_cluster_avg_score, \"-\", diff_cluster_avg_score, \"=\", same_cluster_avg_score - diff_cluster_avg_score)"
   ]
  },
  {
   "cell_type": "code",
   "execution_count": null,
   "metadata": {
    "collapsed": true
   },
   "outputs": [],
   "source": []
  }
 ],
 "metadata": {
  "kernelspec": {
   "display_name": "Python 2",
   "language": "python",
   "name": "python2"
  },
  "language_info": {
   "codemirror_mode": {
    "name": "ipython",
    "version": 2
   },
   "file_extension": ".py",
   "mimetype": "text/x-python",
   "name": "python",
   "nbconvert_exporter": "python",
   "pygments_lexer": "ipython2",
   "version": "2.7.12"
  }
 },
 "nbformat": 4,
 "nbformat_minor": 0
}
