{
 "cells": [
  {
   "cell_type": "code",
   "execution_count": 1,
   "metadata": {
    "collapsed": true
   },
   "outputs": [],
   "source": [
    "from __future__ import absolute_import\n",
    "from __future__ import division\n",
    "from __future__ import unicode_literals\n",
    "from __future__ import print_function"
   ]
  },
  {
   "cell_type": "code",
   "execution_count": 2,
   "metadata": {
    "collapsed": false
   },
   "outputs": [],
   "source": [
    "import numpy as np\n",
    "import pandas as pd\n",
    "from sklearn.feature_extraction.text import TfidfVectorizer\n",
    "import pickle\n",
    "from sklearn.preprocessing import normalize\n",
    "from sklearn.preprocessing import MinMaxScaler\n",
    "from scipy.stats import rankdata\n",
    "\n",
    "pd.set_option('max_colwidth',5000)"
   ]
  },
  {
   "cell_type": "code",
   "execution_count": 3,
   "metadata": {
    "collapsed": false
   },
   "outputs": [],
   "source": [
    "# Load word2vec model for this specific course\n",
    "w2v_matrix = pickle.load( open( \"../data/w2v_matrix_for_HarvardX__HDS_3221_2X__1T2016.p\", \"rb\" ) )\n",
    "vocab = np.array(pickle.load( open( \"../data/vocab_for_HarvardX__HDS_3221_2X__1T2016.p\", \"rb\" ) ) )"
   ]
  },
  {
   "cell_type": "code",
   "execution_count": 4,
   "metadata": {
    "collapsed": false
   },
   "outputs": [],
   "source": [
    "# Verify word2vec model works well (the following example should have cosine similarity near 1)\n",
    "\n",
    "# def cosinesimilarity(u, v):\n",
    "#   # u - embedding (vector)\n",
    "#   # v - embedding (vector)\n",
    "#   return np.dot(u,v) / (np.sqrt(np.dot(u, u)) * np.sqrt(np.dot(v,v)))\n",
    "# np.dot(w2v_matrix[np.where(vocab == \"queen\")[0][0]], w2v_matrix[np.where(vocab == \"king\")[0][0]] - w2v_matrix[np.where(vocab == \"man\")[0][0]] + w2v_matrix[np.where(vocab == \"woman\")[0][0]] )"
   ]
  },
  {
   "cell_type": "code",
   "execution_count": 5,
   "metadata": {
    "collapsed": true
   },
   "outputs": [],
   "source": [
    "test_comments = [\n",
    "  \"Jesus is great. I love Jesus and the holy book. I think God is amazing. I agree with religion\",\n",
    "  \"Jesus is great. I love Jesus and the holy book. I think God is amazing.\",\n",
    "  \"Jesus is the best. I love Jesus and the holy book. I think God is amazing. I agree with religion\",\n",
    "  \"Jesus is awesome. I love Jesus and the holy book. I think God is amazing. I agree with religion\",\n",
    "  \"Christ is great. I love Christ and the holy book. I think God is amazing. I agree with religion\",\n",
    "  \"Christ is great. I love Christ and the holy book. I agree with religion\",\n",
    "  \"Donald Trump is a president with tons of electrical equipment and lightbulbs and random things.\",\n",
    "]"
   ]
  },
  {
   "cell_type": "code",
   "execution_count": 5,
   "metadata": {
    "collapsed": true
   },
   "outputs": [],
   "source": [
    "def embedding_tfidf(embedding_matrix, embedding_vocab, gold_data, gold_matrix, test_name):\n",
    "  # Get tfidf counts for each comment as a matrix C with shape (# comments, size of w2v (embedding) vocab)\n",
    "  vec = TfidfVectorizer(vocabulary=embedding_vocab)\n",
    "  C = vec.fit_transform(gold_data.body.values)\n",
    "\n",
    "  # Compute tfidf bag of words for each comment as matrix A with shape (#comments, embedding dimension)\n",
    "  A = C.dot(embedding_matrix)\n",
    "  A = normalize(A, norm='l2')\n",
    "\n",
    "  # Verify that each row of A is normalized (unit vector l2-norm)\n",
    "  assert(abs(sum(np.sum(np.abs(A)**2,axis=-1)**(1./2)) / len(A) - 1.0) < 0.0001) # Should be close to 1.0\n",
    "\n",
    "  # We compute pairwise cosine similarity with dot product since A is normalized.\n",
    "  pairwise_cosine_similarity = np.dot(A, A.transpose())\n",
    "  pairwise_cosine_similarity = MinMaxScaler().fit_transform(pairwise_cosine_similarity)\n",
    "\n",
    "  # Compute avg consine similarity for same cluster comments and different cluster topics and subtract.\n",
    "  same_cluster_avg_score = np.multiply(pairwise_cosine_similarity, gold_matrix).values.sum() / gold_matrix.values.sum()\n",
    "  diff_cluster_avg_score = np.multiply(pairwise_cosine_similarity, 1-gold_matrix).values.sum() / (1-gold_matrix).values.sum()\n",
    "  print(test_name, \"score:\", same_cluster_avg_score, \"-\", diff_cluster_avg_score, \"=\", same_cluster_avg_score - diff_cluster_avg_score)\n",
    "  \n",
    "  return pairwise_cosine_similarity"
   ]
  },
  {
   "cell_type": "code",
   "execution_count": 6,
   "metadata": {
    "collapsed": false
   },
   "outputs": [
    {
     "name": "stdout",
     "output_type": "stream",
     "text": [
      "Train score: 0.733111324425 - 0.706830460569 = 0.0262808638563\n"
     ]
    }
   ],
   "source": [
    "# Load gold train data\n",
    "gold_matrix_train = pd.read_csv('gold_matrix_train_HarvardX__HDS_3221_2X__1T2016.csv.gz', compression='gzip')\n",
    "df_gold_train = pd.read_csv('gold_data_train_HarvardX__HDS_3221_2X__1T2016.csv.gz', compression='gzip')\n",
    "pairwise_cosine_similarity_train = embedding_tfidf(w2v_matrix, vocab, df_gold_train, gold_matrix_train, \"Train\")"
   ]
  },
  {
   "cell_type": "code",
   "execution_count": 7,
   "metadata": {
    "collapsed": false
   },
   "outputs": [
    {
     "name": "stdout",
     "output_type": "stream",
     "text": [
      "Test score: 0.761985102916 - 0.73159319877 = 0.0303919041457\n"
     ]
    }
   ],
   "source": [
    "# Load gold data\n",
    "gold_matrix_test = pd.read_csv('gold_matrix_test_HarvardX__HDS_3221_2X__1T2016.csv.gz', compression='gzip')\n",
    "df_gold_test = pd.read_csv('gold_data_test_HarvardX__HDS_3221_2X__1T2016.csv.gz', compression='gzip')\n",
    "pairwise_cosine_similarity_test =embedding_tfidf(w2v_matrix, vocab, df_gold_test, gold_matrix_test, \"Test\")"
   ]
  },
  {
   "cell_type": "code",
   "execution_count": 18,
   "metadata": {
    "collapsed": false
   },
   "outputs": [
    {
     "data": {
      "text/plain": [
       "<module 'make_pairwise_gold_metric_scores' from 'make_pairwise_gold_metric_scores.py'>"
      ]
     },
     "execution_count": 18,
     "metadata": {},
     "output_type": "execute_result"
    }
   ],
   "source": [
    "import make_pairwise_gold_metric_scores\n",
    "reload(make_pairwise_gold_metric_scores)\n",
    "from make_pairwise_gold_metric_scores import compute_metrics"
   ]
  },
  {
   "cell_type": "code",
   "execution_count": 20,
   "metadata": {
    "collapsed": false
   },
   "outputs": [
    {
     "name": "stdout",
     "output_type": "stream",
     "text": [
      "Avg Difference score: 0.761985102916 - 0.73159319877 = 0.0303919041457\n",
      "Median Difference score: 0.785720878256 - 0.754961800322 = 0.0307590779335\n",
      "Median Quantile (Rank) Difference score: 0.619402613004 - 0.476491033972 = 0.142911579032\n",
      "Pairwise Binary Logistic Regression Accuracy score: 0.815278216339\n",
      "\n",
      "The next test uses parameter optimization over a random forest\n",
      "classifier's parameters and may take 30s to 2 min to run.\n",
      "\n",
      "Pairwise Binary Random Forest Accuracy score: 0.8168831508\n"
     ]
    },
    {
     "data": {
      "text/html": [
       "<div>\n",
       "<table border=\"1\" class=\"dataframe\">\n",
       "  <thead>\n",
       "    <tr style=\"text-align: right;\">\n",
       "      <th></th>\n",
       "      <th>Score</th>\n",
       "    </tr>\n",
       "  </thead>\n",
       "  <tbody>\n",
       "    <tr>\n",
       "      <th>avg_diff</th>\n",
       "      <td>0.030392</td>\n",
       "    </tr>\n",
       "    <tr>\n",
       "      <th>logreg_acc_pairwise_binary</th>\n",
       "      <td>0.815278</td>\n",
       "    </tr>\n",
       "    <tr>\n",
       "      <th>median_diff</th>\n",
       "      <td>0.030759</td>\n",
       "    </tr>\n",
       "    <tr>\n",
       "      <th>median_quantile_diff</th>\n",
       "      <td>0.142912</td>\n",
       "    </tr>\n",
       "    <tr>\n",
       "      <th>random_forest_acc_pairwise_binary</th>\n",
       "      <td>0.816883</td>\n",
       "    </tr>\n",
       "  </tbody>\n",
       "</table>\n",
       "</div>"
      ],
      "text/plain": [
       "                                      Score\n",
       "avg_diff                           0.030392\n",
       "logreg_acc_pairwise_binary         0.815278\n",
       "median_diff                        0.030759\n",
       "median_quantile_diff               0.142912\n",
       "random_forest_acc_pairwise_binary  0.816883"
      ]
     },
     "execution_count": 20,
     "metadata": {},
     "output_type": "execute_result"
    }
   ],
   "source": [
    "metrics = compute_metrics(pairwise_cosine_similarity_train, pairwise_cosine_similarity_test, gold_matrix_train, df_gold_train, gold_matrix_test, df_gold_test)\n",
    "pretty_metrics = pd.DataFrame(pd.Series(metrics), columns = [\"Score\"])\n",
    "pretty_metrics"
   ]
  },
  {
   "cell_type": "code",
   "execution_count": 19,
   "metadata": {
    "collapsed": false
   },
   "outputs": [
    {
     "name": "stdout",
     "output_type": "stream",
     "text": [
      "Avg Difference score: 0.733111324425 - 0.706830460569 = 0.0262808638563\n",
      "Median Difference score: 0.778764736694 - 0.744147068673 = 0.0346176680211\n",
      "Median Quantile (Rank) Difference score: 0.603279798177 - 0.476835583583 = 0.126444214594\n",
      "Pairwise Binary Logistic Regression Accuracy score: 0.78646776753\n",
      "\n",
      "The next test uses parameter optimization over a random forest\n",
      "classifier's parameters and may take 30s to 2 min to run.\n",
      "\n",
      "Pairwise Binary Random Forest Accuracy score: 0.787833630623\n"
     ]
    },
    {
     "data": {
      "text/html": [
       "<div>\n",
       "<table border=\"1\" class=\"dataframe\">\n",
       "  <thead>\n",
       "    <tr style=\"text-align: right;\">\n",
       "      <th></th>\n",
       "      <th>Score</th>\n",
       "    </tr>\n",
       "  </thead>\n",
       "  <tbody>\n",
       "    <tr>\n",
       "      <th>avg_diff</th>\n",
       "      <td>0.026281</td>\n",
       "    </tr>\n",
       "    <tr>\n",
       "      <th>logreg_acc_pairwise_binary</th>\n",
       "      <td>0.786468</td>\n",
       "    </tr>\n",
       "    <tr>\n",
       "      <th>median_diff</th>\n",
       "      <td>0.034618</td>\n",
       "    </tr>\n",
       "    <tr>\n",
       "      <th>median_quantile_diff</th>\n",
       "      <td>0.126444</td>\n",
       "    </tr>\n",
       "    <tr>\n",
       "      <th>random_forest_acc_pairwise_binary</th>\n",
       "      <td>0.787834</td>\n",
       "    </tr>\n",
       "  </tbody>\n",
       "</table>\n",
       "</div>"
      ],
      "text/plain": [
       "                                      Score\n",
       "avg_diff                           0.026281\n",
       "logreg_acc_pairwise_binary         0.786468\n",
       "median_diff                        0.034618\n",
       "median_quantile_diff               0.126444\n",
       "random_forest_acc_pairwise_binary  0.787834"
      ]
     },
     "execution_count": 19,
     "metadata": {},
     "output_type": "execute_result"
    }
   ],
   "source": [
    "# Switching train and test\n",
    "\n",
    "metrics = compute_metrics(pairwise_cosine_similarity_test, pairwise_cosine_similarity_train, gold_matrix_test, df_gold_test, gold_matrix_train, df_gold_train)\n",
    "pretty_metrics = pd.DataFrame(pd.Series(metrics), columns = [\"Score\"])\n",
    "pretty_metrics"
   ]
  }
 ],
 "metadata": {
  "kernelspec": {
   "display_name": "Python 2",
   "language": "python",
   "name": "python2"
  },
  "language_info": {
   "codemirror_mode": {
    "name": "ipython",
    "version": 2
   },
   "file_extension": ".py",
   "mimetype": "text/x-python",
   "name": "python",
   "nbconvert_exporter": "python",
   "pygments_lexer": "ipython2",
   "version": "2.7.12"
  }
 },
 "nbformat": 4,
 "nbformat_minor": 0
}
