{
 "cells": [
  {
   "cell_type": "code",
   "execution_count": 1,
   "metadata": {
    "collapsed": true
   },
   "outputs": [],
   "source": [
    "import pandas as pd"
   ]
  },
  {
   "cell_type": "code",
   "execution_count": 6,
   "metadata": {
    "collapsed": false
   },
   "outputs": [
    {
     "name": "stdout",
     "output_type": "stream",
     "text": [
      "\\begin{tabular}{lrr}\n",
      "\\toprule\n",
      "                 Model &  Median Quantile Difference &  Logistic Regression Accuracy \\\\\n",
      "\\midrule\n",
      "      Word2Vec + TFIDF &                    0.204944 &                      0.815278 \\\\\n",
      "           PCA + TFIDF &                    0.433901 &                      0.866738 \\\\\n",
      "           LSA + TFIDF &                    0.431401 &                      0.867211 \\\\\n",
      "                 TFIDF &                    0.338009 &                      0.841026 \\\\\n",
      "           LDA + TFIDF &                    0.128716 &                      0.815278 \\\\\n",
      "       Word2Vec + nBOW &                    0.166570 &                      0.815278 \\\\\n",
      " Karson add your model &                    0.115584 &                      0.786467 \\\\\n",
      "\\bottomrule\n",
      "\\end{tabular}\n",
      "\n"
     ]
    }
   ],
   "source": [
    "print pd.read_csv(\"model_evaluation.csv\").drop(\"Random Forest Accuracy\", axis = 1).to_latex(index=False)"
   ]
  }
 ],
 "metadata": {
  "kernelspec": {
   "display_name": "Python 2",
   "language": "python",
   "name": "python2"
  },
  "language_info": {
   "codemirror_mode": {
    "name": "ipython",
    "version": 2
   },
   "file_extension": ".py",
   "mimetype": "text/x-python",
   "name": "python",
   "nbconvert_exporter": "python",
   "pygments_lexer": "ipython2",
   "version": "2.7.12"
  }
 },
 "nbformat": 4,
 "nbformat_minor": 0
}
