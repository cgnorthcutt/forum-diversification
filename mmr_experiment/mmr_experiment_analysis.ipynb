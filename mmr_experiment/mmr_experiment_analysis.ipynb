{
 "cells": [
  {
   "cell_type": "code",
   "execution_count": 1,
   "metadata": {
    "collapsed": false
   },
   "outputs": [],
   "source": [
    "% matplotlib inline"
   ]
  },
  {
   "cell_type": "code",
   "execution_count": 227,
   "metadata": {
    "collapsed": false
   },
   "outputs": [],
   "source": [
    "import pandas as pd\n",
    "import numpy as np\n",
    "import pickle\n",
    "import seaborn \n",
    "from sklearn.metrics import accuracy_score as acc\n",
    "seaborn.set_style(\"whitegrid\")\n",
    "\n",
    "from pandas.tools.plotting import parallel_coordinates\n",
    "import matplotlib\n",
    "from matplotlib import pyplot as plt\n",
    "font = {'family' : 'STIXGeneral',\n",
    "        'weight' : 'normal',\n",
    "        'size'   : 40\n",
    "       }\n",
    "\n",
    "matplotlib.rc('font', **font)\n",
    "\n",
    "from matplotlib import rc\n",
    "rc('text', usetex=True)\n",
    "\n",
    "matplotlib.rcParams['mathtext.fontset'] = 'stix'\n",
    "matplotlib.rcParams['font.family'] = 'STIXGeneral'"
   ]
  },
  {
   "cell_type": "code",
   "execution_count": 242,
   "metadata": {
    "collapsed": true
   },
   "outputs": [],
   "source": [
    "users = [\"naichun\", \"karson\", \"kim\"]\n",
    "experiments = [\"inclusion\",\"diverse\",\"redundant\"]"
   ]
  },
  {
   "cell_type": "code",
   "execution_count": 243,
   "metadata": {
    "collapsed": false
   },
   "outputs": [],
   "source": [
    "# Since trials were randomized, re-construct the indices for trials to map trials together across users\n",
    "\n",
    "lines_per_trial = 44\n",
    "trials = 100\n",
    "\n",
    "# Fetch lines of experiments for each user\n",
    "lines = [line.rstrip('\\n') for line in open('kim.txt')]\n",
    "lines2 = [line.rstrip('\\n') for line in open('karson.txt')]\n",
    "lines3 = [line.rstrip('\\n') for line in open('naichun.txt')] + [\"MISSING LINE\"]*24\n",
    "\n",
    "# Create index mapping of question to index.\n",
    "txt2index = {\" \".join(lines[i*lines_per_trial:(i+1)*lines_per_trial][1:]):i for i in range(trials)}\n",
    "\n",
    "# Produces indices for each user's text\n",
    "kim_index = [txt2index.get(\" \".join(lines[i*lines_per_trial:(i+1)*lines_per_trial][1:])) for i in range(trials)]\n",
    "karson_index = [txt2index.get(\" \".join(lines2[i*lines_per_trial:(i+1)*lines_per_trial][1:])) for i in range(trials)]\n",
    "naichun_index = [txt2index.get(\" \".join(lines3[i*lines_per_trial:(i+1)*lines_per_trial][1:])) for i in range(trials)]\n",
    "naichun_index[-1] = 28 # Fixes error in last entry"
   ]
  },
  {
   "cell_type": "code",
   "execution_count": 244,
   "metadata": {
    "collapsed": false
   },
   "outputs": [],
   "source": [
    "# Fetch results from csv files and combine\n",
    "mmr_results = []\n",
    "for user in users:\n",
    "  response = pd.read_csv(\"response_{user}.csv\".format(user=user))\n",
    "  response.columns = [\"inclusion\",\"diverse\", \"redundant\"]\n",
    "  truth = pd.DataFrame(list(pd.read_pickle(\"truth_{user}.txt.p\".format(user=user))))\n",
    "  combined = pd.concat([response, truth], axis=1)\n",
    "  combined[\"user\"] = [user] * len(combined)\n",
    "  mmr_results.append(combined)\n",
    "mmr_results = pd.concat(mmr_results, ignore_index=True) # Combines list of dataframes into single dataframe"
   ]
  },
  {
   "cell_type": "code",
   "execution_count": 245,
   "metadata": {
    "collapsed": false
   },
   "outputs": [],
   "source": [
    "# Modify two errors in the data.\n",
    "mmr_results.ix[99] = [\"B\", \"B\", \"A\", \"baseline\", \"mmr\", 0.75, \"naichun\"]\n",
    "mmr_results.ix[72] = [\"A\", \"A\", \"B\", \"mmr\", \"baseline\", 0.75, \"naichun\"]"
   ]
  },
  {
   "cell_type": "code",
   "execution_count": 246,
   "metadata": {
    "collapsed": false
   },
   "outputs": [],
   "source": [
    "# Map A and B (blinded trials) to actual values.\n",
    "mmr_results[\"mapping\"] = mmr_results[[\"A\",\"B\"]].T.to_dict().values()\n",
    "mmr_results[experiments] = mmr_results[[\"inclusion\",\"diverse\",\"redundant\", \"mapping\"]].apply(lambda x: pd.Series([x[\"mapping\"][x[\"inclusion\"]], x[\"mapping\"][x[\"diverse\"]], x[\"mapping\"][x[\"redundant\"]]]), axis=1)\n",
    "mmr_results = mmr_results[[\"inclusion\",\"diverse\",\"redundant\", \"mmr_lambda\", \"user\"]]"
   ]
  },
  {
   "cell_type": "code",
   "execution_count": 247,
   "metadata": {
    "collapsed": false
   },
   "outputs": [
    {
     "name": "stderr",
     "output_type": "stream",
     "text": [
      "/Users/cgn/anaconda/lib/python2.7/site-packages/ipykernel/__main__.py:5: SettingWithCopyWarning: \n",
      "A value is trying to be set on a copy of a slice from a DataFrame.\n",
      "Try using .loc[row_indexer,col_indexer] = value instead\n",
      "\n",
      "See the caveats in the documentation: http://pandas.pydata.org/pandas-docs/stable/indexing.html#indexing-view-versus-copy\n"
     ]
    }
   ],
   "source": [
    "# Re-arrange each users trials so that results are in the same order.\n",
    "sorted_mmr_results = []\n",
    "for user in users:\n",
    "  user_slice = mmr_results[mmr_results[\"user\"] == user]\n",
    "  user_slice[\"trial_index\"] = eval(user+\"_index\")\n",
    "  user_slice = user_slice.sort_values(\"trial_index\") #.drop(\"trial_index\", axis=1)\n",
    "  sorted_mmr_results.append(user_slice)\n",
    "mmr_results = pd.concat(sorted_mmr_results)"
   ]
  },
  {
   "cell_type": "code",
   "execution_count": 248,
   "metadata": {
    "collapsed": false
   },
   "outputs": [],
   "source": [
    "# Store results as csv\n",
    "mmr_results.to_csv(\"mmr_results.csv.gz\", compression=\"gzip\", index=False)\n",
    "mmr_results = pd.read_csv(\"mmr_results.csv.gz\", compression=\"gzip\")"
   ]
  },
  {
   "cell_type": "code",
   "execution_count": 251,
   "metadata": {
    "collapsed": false
   },
   "outputs": [],
   "source": [
    "# Aggregater results per lambda and per user.\n",
    "final_per_user = []\n",
    "for user in users:\n",
    "  final_per_lam = []\n",
    "  for mmr_lambda in mmr_results.mmr_lambda.unique():\n",
    "    df_lam = mmr_results[mmr_results.user == user]\n",
    "    df_lam = df_lam[df_lam.mmr_lambda == mmr_lambda][experiments]\n",
    "    df_lam = pd.DataFrame([df_lam[col].value_counts() for col in df_lam.columns])\n",
    "    df_lam[\"ntrials\"] = df_lam[\"baseline\"] + df_lam[\"mmr\"]\n",
    "    df_lam = df_lam[[\"ntrials\", \"baseline\", \"mmr\"]]\n",
    "    df_lam[\"fraction_baseline\"] = df_lam[\"baseline\"] / df_lam[\"ntrials\"]\n",
    "    df_lam[\"fraction_mmr\"] = df_lam[\"mmr\"] / df_lam[\"ntrials\"]\n",
    "    df_lam[\"mmr_lambda\"] = [mmr_lambda] * len(df_lam)\n",
    "    final_per_lam.append(df_lam)\n",
    "  final_per_user.append(pd.DataFrame({i: df[\"fraction_mmr\"] for i, df in pd.concat(final_per_lam).groupby(\"mmr_lambda\")}))\n",
    "  \n",
    "df_concat = pd.concat(final_per_user)\n",
    "by_row_index = df_concat.groupby(df_concat.index)\n",
    "df_means = by_row_index.mean()\n",
    "df_stds = by_row_index.std()\n",
    "\n",
    "df_concat[\"Rater\"] = [1,1,1,2,2,2,3,3,3] \n",
    "df_concat['Experiment'] = [2,1,3] * 3"
   ]
  },
  {
   "cell_type": "code",
   "execution_count": 254,
   "metadata": {
    "collapsed": false,
    "scrolled": false
   },
   "outputs": [
    {
     "data": {
      "image/png": "[encoded data removed]",
      "text/plain": [
       "<matplotlib.figure.Figure at 0x11ac6e290>"
      ]
     },
     "metadata": {},
     "output_type": "display_data"
    }
   ],
   "source": [
    "# Plot final results\n",
    "color_map = {0.25:\"blue\", 0.75:\"red\"}\n",
    "alpha=0.2\n",
    "plt.figure(figsize=(10,10))\n",
    "for mmr_lambda in df_means.columns:\n",
    "  plt.scatter(df_concat[\"Experiment\"], df_concat[mmr_lambda], label=mmr_lambda, s=200, c = color_map[mmr_lambda], alpha=0.8)\n",
    "  avg = df_means[mmr_lambda]\n",
    "  std = df_stds[mmr_lambda]\n",
    "  plt.scatter([1,2,3], avg, s=500, linewidth=3, c = color_map[mmr_lambda])\n",
    "  plt.errorbar([1,2,3], avg, yerr=std, fmt='none', linewidth=10, alpha=alpha, ecolor = color_map[mmr_lambda])\n",
    "  #plt.fill_between([1,2,3], avg-std, avg+std, alpha=alpha)\n",
    "  plt.xticks([1,2,3], avg.index)\n",
    "plt.legend(bbox_to_anchor=(1.4, .5), loc = 5, fontsize=40, title=r\"\\lambda\")\n",
    "plt.tick_params(axis='both', which='both', labelsize=40)\n",
    "plt.title(\"Fraction of Responses Choosing\\nMMR Ranking (versus Baseline)\", fontsize=40)\n",
    "plt.xlabel(\"Experiment\", fontsize=40)\n",
    "plt.savefig(\"mmr_figure.pdf\", dpi=300, bbox_inches='tight')"
   ]
  },
  {
   "cell_type": "code",
   "execution_count": 255,
   "metadata": {
    "collapsed": false
   },
   "outputs": [
    {
     "name": "stdout",
     "output_type": "stream",
     "text": [
      "\\begin{tabular}{llrrrrr}\n",
      "\\toprule\n",
      "     &         &  ntrials &  baseline &  mmr &  fraction\\_baseline &  fraction\\_mmr \\\\\n",
      "mmr\\_lambda & experiment &          &           &      &                    &               \\\\\n",
      "\\midrule\n",
      "0.25 & inclusion &      225 &       116 &  109 &               0.52 &          0.48 \\\\\n",
      "     & diverse &      225 &       103 &  122 &               0.46 &          0.54 \\\\\n",
      "     & redundant &      225 &       115 &  110 &               0.51 &          0.49 \\\\\n",
      "0.75 & inclusion &       75 &        24 &   51 &               0.32 &          0.68 \\\\\n",
      "     & diverse &       75 &        28 &   47 &               0.37 &          0.63 \\\\\n",
      "     & redundant &       75 &        46 &   29 &               0.61 &          0.39 \\\\\n",
      "\\bottomrule\n",
      "\\end{tabular}\n",
      "\n"
     ]
    }
   ],
   "source": [
    "# Produce final latex table for paper\n",
    "final = []\n",
    "for mmr_lambda in mmr_results.mmr_lambda.unique():\n",
    "  df_lam = mmr_results[mmr_results.mmr_lambda == mmr_lambda][experiments]\n",
    "  df_lam = pd.DataFrame([df_lam[col].value_counts() for col in df_lam.columns])\n",
    "  df_lam[\"ntrials\"] = df_lam[\"baseline\"] + df_lam[\"mmr\"]\n",
    "  df_lam = df_lam[[\"ntrials\", \"baseline\", \"mmr\"]]\n",
    "  df_lam[\"fraction_baseline\"] = df_lam[\"baseline\"] / df_lam[\"ntrials\"]\n",
    "  df_lam[\"fraction_mmr\"] = df_lam[\"mmr\"] / df_lam[\"ntrials\"]\n",
    "  df_lam[\"mmr_lambda\"] = [mmr_lambda] * len(df_lam)\n",
    "  final.append(df_lam)\n",
    "final = pd.concat(final)\n",
    "\n",
    "final = final.reset_index().rename(columns={\"index\":\"experiment\"}).set_index([\"mmr_lambda\", \"experiment\"])\n",
    "final[\"fraction_baseline\"] = final[\"fraction_baseline\"].apply(lambda x: round(x, 2))\n",
    "final[\"fraction_mmr\"] = final[\"fraction_mmr\"].apply(lambda x: round(x, 2))\n",
    "print final.to_latex()"
   ]
  },
  {
   "cell_type": "code",
   "execution_count": 256,
   "metadata": {
    "collapsed": true
   },
   "outputs": [],
   "source": [
    "# Compute inter-rater reliablity"
   ]
  },
  {
   "cell_type": "code",
   "execution_count": 257,
   "metadata": {
    "collapsed": true
   },
   "outputs": [],
   "source": [
    "from sklearn.metrics import cohen_kappa_score"
   ]
  },
  {
   "cell_type": "code",
   "execution_count": 260,
   "metadata": {
    "collapsed": false
   },
   "outputs": [
    {
     "name": "stdout",
     "output_type": "stream",
     "text": [
      "\\begin{tabular}{llrr}\n",
      "\\toprule\n",
      "        &        &    other1 &    other2 \\\\\n",
      "\\midrule\n",
      "diverse & karson & -0.010918 &  0.273901 \\\\\n",
      "        & kim &  0.179319 &  0.273901 \\\\\n",
      "        & naichun & -0.010918 &  0.179319 \\\\\n",
      "inclusion & karson &  0.033912 &  0.146825 \\\\\n",
      "        & kim &  0.185336 &  0.146825 \\\\\n",
      "        & naichun &  0.033912 &  0.185336 \\\\\n",
      "redundant & karson & -0.025851 &  0.135560 \\\\\n",
      "        & kim &  0.211045 &  0.135560 \\\\\n",
      "        & naichun & -0.025851 &  0.211045 \\\\\n",
      "\\bottomrule\n",
      "\\end{tabular}\n",
      "\n"
     ]
    },
    {
     "data": {
      "text/html": [
       "<div>\n",
       "<table border=\"1\" class=\"dataframe\">\n",
       "  <thead>\n",
       "    <tr style=\"text-align: right;\">\n",
       "      <th></th>\n",
       "      <th></th>\n",
       "      <th>other1</th>\n",
       "      <th>other2</th>\n",
       "    </tr>\n",
       "  </thead>\n",
       "  <tbody>\n",
       "    <tr>\n",
       "      <th rowspan=\"3\" valign=\"top\">diverse</th>\n",
       "      <th>karson</th>\n",
       "      <td>-0.010918</td>\n",
       "      <td>0.273901</td>\n",
       "    </tr>\n",
       "    <tr>\n",
       "      <th>kim</th>\n",
       "      <td>0.179319</td>\n",
       "      <td>0.273901</td>\n",
       "    </tr>\n",
       "    <tr>\n",
       "      <th>naichun</th>\n",
       "      <td>-0.010918</td>\n",
       "      <td>0.179319</td>\n",
       "    </tr>\n",
       "    <tr>\n",
       "      <th rowspan=\"3\" valign=\"top\">inclusion</th>\n",
       "      <th>karson</th>\n",
       "      <td>0.033912</td>\n",
       "      <td>0.146825</td>\n",
       "    </tr>\n",
       "    <tr>\n",
       "      <th>kim</th>\n",
       "      <td>0.185336</td>\n",
       "      <td>0.146825</td>\n",
       "    </tr>\n",
       "    <tr>\n",
       "      <th>naichun</th>\n",
       "      <td>0.033912</td>\n",
       "      <td>0.185336</td>\n",
       "    </tr>\n",
       "    <tr>\n",
       "      <th rowspan=\"3\" valign=\"top\">redundant</th>\n",
       "      <th>karson</th>\n",
       "      <td>-0.025851</td>\n",
       "      <td>0.135560</td>\n",
       "    </tr>\n",
       "    <tr>\n",
       "      <th>kim</th>\n",
       "      <td>0.211045</td>\n",
       "      <td>0.135560</td>\n",
       "    </tr>\n",
       "    <tr>\n",
       "      <th>naichun</th>\n",
       "      <td>-0.025851</td>\n",
       "      <td>0.211045</td>\n",
       "    </tr>\n",
       "  </tbody>\n",
       "</table>\n",
       "</div>"
      ],
      "text/plain": [
       "                     other1    other2\n",
       "diverse   karson  -0.010918  0.273901\n",
       "          kim      0.179319  0.273901\n",
       "          naichun -0.010918  0.179319\n",
       "inclusion karson   0.033912  0.146825\n",
       "          kim      0.185336  0.146825\n",
       "          naichun  0.033912  0.185336\n",
       "redundant karson  -0.025851  0.135560\n",
       "          kim      0.211045  0.135560\n",
       "          naichun -0.025851  0.211045"
      ]
     },
     "execution_count": 260,
     "metadata": {},
     "output_type": "execute_result"
    }
   ],
   "source": [
    "df_cohen = mmr_results.set_index([\"user\"])\n",
    "cohen = {}\n",
    "\n",
    "for exp in experiments:\n",
    "  for name1 in mmr_results.user.unique():\n",
    "      cohen[exp, name1] = [cohen_kappa_score(df_cohen.ix[name1][exp], df_cohen.ix[name2][exp]) for name2 in mmr_results.user.unique() if name1 != name2]\n",
    "      \n",
    "print pd.DataFrame(cohen, index=[\"other1\", \"other2\"]).transpose().to_latex()\n",
    "pd.DataFrame(cohen, index=[\"other1\", \"other2\"]).transpose()"
   ]
  },
  {
   "cell_type": "code",
   "execution_count": 261,
   "metadata": {
    "collapsed": false
   },
   "outputs": [
    {
     "name": "stdout",
     "output_type": "stream",
     "text": [
      "\\begin{tabular}{llrr}\n",
      "\\toprule\n",
      "        &        &  other1 &  other2 \\\\\n",
      "\\midrule\n",
      "diverse & karson &    0.50 &    0.64 \\\\\n",
      "        & kim &    0.60 &    0.64 \\\\\n",
      "        & naichun &    0.50 &    0.60 \\\\\n",
      "inclusion & karson &    0.51 &    0.57 \\\\\n",
      "        & kim &    0.60 &    0.57 \\\\\n",
      "        & naichun &    0.51 &    0.60 \\\\\n",
      "redundant & karson &    0.50 &    0.56 \\\\\n",
      "        & kim &    0.60 &    0.56 \\\\\n",
      "        & naichun &    0.50 &    0.60 \\\\\n",
      "\\bottomrule\n",
      "\\end{tabular}\n",
      "\n"
     ]
    },
    {
     "data": {
      "text/html": [
       "<div>\n",
       "<table border=\"1\" class=\"dataframe\">\n",
       "  <thead>\n",
       "    <tr style=\"text-align: right;\">\n",
       "      <th></th>\n",
       "      <th></th>\n",
       "      <th>other1</th>\n",
       "      <th>other2</th>\n",
       "    </tr>\n",
       "  </thead>\n",
       "  <tbody>\n",
       "    <tr>\n",
       "      <th rowspan=\"3\" valign=\"top\">diverse</th>\n",
       "      <th>karson</th>\n",
       "      <td>0.50</td>\n",
       "      <td>0.64</td>\n",
       "    </tr>\n",
       "    <tr>\n",
       "      <th>kim</th>\n",
       "      <td>0.60</td>\n",
       "      <td>0.64</td>\n",
       "    </tr>\n",
       "    <tr>\n",
       "      <th>naichun</th>\n",
       "      <td>0.50</td>\n",
       "      <td>0.60</td>\n",
       "    </tr>\n",
       "    <tr>\n",
       "      <th rowspan=\"3\" valign=\"top\">inclusion</th>\n",
       "      <th>karson</th>\n",
       "      <td>0.51</td>\n",
       "      <td>0.57</td>\n",
       "    </tr>\n",
       "    <tr>\n",
       "      <th>kim</th>\n",
       "      <td>0.60</td>\n",
       "      <td>0.57</td>\n",
       "    </tr>\n",
       "    <tr>\n",
       "      <th>naichun</th>\n",
       "      <td>0.51</td>\n",
       "      <td>0.60</td>\n",
       "    </tr>\n",
       "    <tr>\n",
       "      <th rowspan=\"3\" valign=\"top\">redundant</th>\n",
       "      <th>karson</th>\n",
       "      <td>0.50</td>\n",
       "      <td>0.56</td>\n",
       "    </tr>\n",
       "    <tr>\n",
       "      <th>kim</th>\n",
       "      <td>0.60</td>\n",
       "      <td>0.56</td>\n",
       "    </tr>\n",
       "    <tr>\n",
       "      <th>naichun</th>\n",
       "      <td>0.50</td>\n",
       "      <td>0.60</td>\n",
       "    </tr>\n",
       "  </tbody>\n",
       "</table>\n",
       "</div>"
      ],
      "text/plain": [
       "                   other1  other2\n",
       "diverse   karson     0.50    0.64\n",
       "          kim        0.60    0.64\n",
       "          naichun    0.50    0.60\n",
       "inclusion karson     0.51    0.57\n",
       "          kim        0.60    0.57\n",
       "          naichun    0.51    0.60\n",
       "redundant karson     0.50    0.56\n",
       "          kim        0.60    0.56\n",
       "          naichun    0.50    0.60"
      ]
     },
     "execution_count": 261,
     "metadata": {},
     "output_type": "execute_result"
    }
   ],
   "source": [
    "# Compute fraction agreement\n",
    "df_cohen = mmr_results.set_index([\"user\"])\n",
    "agreement = {}\n",
    "\n",
    "for exp in experiments:\n",
    "  for name1 in mmr_results.user.unique():\n",
    "      agreement[exp, name1] = [acc(df_cohen.ix[name1][exp], df_cohen.ix[name2][exp]) for name2 in mmr_results.user.unique() if name1 != name2]\n",
    "\n",
    "print pd.DataFrame(agreement, index=[\"other1\", \"other2\"]).transpose().to_latex()\n",
    "pd.DataFrame(agreement, index=[\"other1\", \"other2\"]).transpose()"
   ]
  },
  {
   "cell_type": "code",
   "execution_count": null,
   "metadata": {
    "collapsed": true
   },
   "outputs": [],
   "source": []
  }
 ],
 "metadata": {
  "kernelspec": {
   "display_name": "Python 2",
   "language": "python",
   "name": "python2"
  },
  "language_info": {
   "codemirror_mode": {
    "name": "ipython",
    "version": 2
   },
   "file_extension": ".py",
   "mimetype": "text/x-python",
   "name": "python",
   "nbconvert_exporter": "python",
   "pygments_lexer": "ipython2",
   "version": "2.7.12"
  }
 },
 "nbformat": 4,
 "nbformat_minor": 0
}
