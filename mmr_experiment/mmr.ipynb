{
 "cells": [
  {
   "cell_type": "code",
   "execution_count": 4,
   "metadata": {
    "collapsed": true
   },
   "outputs": [],
   "source": [
    "from __future__ import absolute_import\n",
    "from __future__ import division\n",
    "from __future__ import unicode_literals\n",
    "from __future__ import print_function"
   ]
  },
  {
   "cell_type": "code",
   "execution_count": null,
   "metadata": {
    "collapsed": true
   },
   "outputs": [],
   "source": [
    "import numpy as np\n",
    "import pandas as pd\n",
    "import sys\n",
    "from sklearn.feature_extraction.text import TfidfVectorizer\n",
    "from sklearn.preprocessing import normalize\n",
    "from sklearn.preprocessing import MinMaxScaler\n",
    "from sklearn.decomposition import PCA"
   ]
  },
  {
   "cell_type": "code",
   "execution_count": 2,
   "metadata": {
    "collapsed": true
   },
   "outputs": [],
   "source": [
    "def tfidf_pca(comments_np_array, eigenvector=20):\n",
    "  # Get tfidf counts for each comment as a matrix C with shape (# comments, size of vocab)\n",
    "  tfidf = TfidfVectorizer(stop_words='english')\n",
    "  C = tfidf.fit_transform(comments_np_array)\n",
    "#   print(\"tfidf C shape\", C.shape)\n",
    "  pca = PCA(n_components=eigenvector)\n",
    "  A = pca.fit_transform(C.toarray())\n",
    "#   print(\"PCA shape\", A.shape)\n",
    "  A=normalize(A,norm=\"l2\")\n",
    "  # We compute pairwise cosine similarity with dot product since A is normalized.\n",
    "  pairwise_cosine_similarity = np.dot(A, A.transpose())\n",
    "  return MinMaxScaler().fit_transform(pairwise_cosine_similarity)"
   ]
  },
  {
   "cell_type": "code",
   "execution_count": 3,
   "metadata": {
    "collapsed": true
   },
   "outputs": [],
   "source": [
    "def mmr(pairwise_matrix, w, K, lam):\n",
    "  '''\n",
    "  pairwise_matrix - precomputed cosine similarity for all pairs of comments\n",
    "  w - weights for each document which rank its goodness\n",
    "  K - number of diverse documents to select\n",
    "  lam - lambda tradeoff between score (weight) and diversity\n",
    "  '''\n",
    "\n",
    "  VERY_NEGATIVE_NUMBER = -1e10\n",
    "  VERY_LARGE_NUMBER = 1e10\n",
    "\n",
    "  # Init\n",
    "  N = len(pairwise_matrix)\n",
    "  mu_i = np.zeros(K, dtype=np.int) #index of selected comments \n",
    "  weights = np.copy(w) \n",
    "  P = np.copy(pairwise_matrix)\n",
    "\n",
    "  #Make highest-weighted datum first selected document\n",
    "  mu_i[0] = np.argmax(weights)\n",
    "\n",
    "  #Update mask (remove doc from set) and set weight to neg inf\n",
    "  weights[mu_i[0]] = VERY_NEGATIVE_NUMBER\n",
    "  prev_c = np.empty(N) #Stores the max cossim across previous docs for each of the N docs\n",
    "  prev_c.fill(VERY_NEGATIVE_NUMBER) #Initialization to a value that will never be max\n",
    "  P[mu_i[0]].fill(VERY_LARGE_NUMBER) #effectively remove pairwise row of selected docs\n",
    "\n",
    "  #MMR algorithm\n",
    "  for k in range(1, K):\n",
    "\n",
    "      #Reduce the computation to O(KN) instead of O(K2N) by dynamically building max.\n",
    "      P_k = P[:,mu_i[k-1]] #All cosine similarities for (k-1)th doc\n",
    "      prev_max_concat_new_cossim = np.column_stack((prev_c, P_k)) #shape is (N, 2)\n",
    "      c = np.max(prev_max_concat_new_cossim, axis = 1) #max cosine sim b\n",
    "      prev_c = c #update dynamic max cossim for each doc across all selected docs\n",
    "      \n",
    "      #Compute MMR scores for each document\n",
    "      #Scores for previously selected documents will remain VERY_NEGATIVE_NUMBER\n",
    "      scores = lam * weights - (1-lam) * c\n",
    "\n",
    "      #Select document with maximum score\n",
    "      mu_i[k] = np.argmax(scores)\n",
    "\n",
    "      #Update mask (remove doc from set) and set weight to neg inf\n",
    "      weights[mu_i[k]] = VERY_NEGATIVE_NUMBER\n",
    "      P[mu_i[k]].fill(VERY_LARGE_NUMBER) #effectively remove pairwise row of selected doc\n",
    "\n",
    "  return mu_i"
   ]
  }
 ],
 "metadata": {
  "kernelspec": {
   "display_name": "Python 2",
   "language": "python",
   "name": "python2"
  },
  "language_info": {
   "codemirror_mode": {
    "name": "ipython",
    "version": 2
   },
   "file_extension": ".py",
   "mimetype": "text/x-python",
   "name": "python",
   "nbconvert_exporter": "python",
   "pygments_lexer": "ipython2",
   "version": "2.7.12"
  }
 },
 "nbformat": 4,
 "nbformat_minor": 0
}
